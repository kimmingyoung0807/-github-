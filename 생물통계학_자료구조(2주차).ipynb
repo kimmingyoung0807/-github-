{
  "nbformat": 4,
  "nbformat_minor": 0,
  "metadata": {
    "colab": {
      "private_outputs": true,
      "provenance": []
    },
    "kernelspec": {
      "name": "python3",
      "display_name": "Python 3"
    },
    "language_info": {
      "name": "python"
    }
  },
  "cells": [
    {
      "cell_type": "markdown",
      "source": [
        "2-1 리스트의 생성과 요소에 대한 접근"
      ],
      "metadata": {
        "id": "ziZv79lZbVJL"
      }
    },
    {
      "cell_type": "code",
      "execution_count": null,
      "metadata": {
        "id": "yY477IFMYdD-"
      },
      "outputs": [],
      "source": [
        "List_Data=[2,4,6,8,10,12]\n",
        "print(List_Data)\n",
        "\n",
        "print(List_Data[0],'\\n')\n",
        "print(List_Data[1]+List_Data[2],'\\n')\n",
        "print(List_Data[-1],'\\n')\n",
        "print(List_Data[-6],'\\n')"
      ]
    },
    {
      "cell_type": "markdown",
      "source": [
        "2-2 리스트의 메소드 사용방법"
      ],
      "metadata": {
        "id": "6PuJI83NcAi-"
      }
    },
    {
      "cell_type": "code",
      "source": [
        "from re import L\n",
        "Lst1=[1,3,5,7]\n",
        "Lst2=[2,4,6,8,10,12]\n",
        "print(Lst1,'\\n')\n",
        "\n",
        "print(Lst2,'\\n')\n",
        "\n",
        "print(Lst1.index(7),'\\n')\n",
        "\n",
        "Lst1.append(9)\n",
        "print(Lst1,'\\n')\n",
        "\n",
        "Lst1.insert(0,11)\n",
        "print(Lst1,'\\n')\n",
        "\n",
        "Lst2.remove(12)\n",
        "print(Lst2,'\\n')\n",
        "\n",
        "Lst1.extend(Lst2)\n",
        "print(Lst1,'\\n')\n",
        "\n",
        "Lst1.sort()\n",
        "print(Lst1,'\\n')\n",
        "\n",
        "Lst1.reverse()\n",
        "print(Lst1,'\\n')"
      ],
      "metadata": {
        "id": "0fsxvyzibf_d"
      },
      "execution_count": null,
      "outputs": []
    },
    {
      "cell_type": "markdown",
      "source": [
        "2-3배열과 리스트의 차이"
      ],
      "metadata": {
        "id": "h-oa9jw2iB3F"
      }
    },
    {
      "cell_type": "markdown",
      "source": [
        "2-3 배열 예제"
      ],
      "metadata": {
        "id": "_pelLbafiEgM"
      }
    },
    {
      "cell_type": "code",
      "source": [
        "import numpy as np\n",
        "arr1=np.array([1,2,3,4,5])\n",
        "arr2=np.array([6,7,8,9,10])\n",
        "print(arr1)\n",
        "\n",
        "print(arr1+arr2)\n",
        "\n",
        "print(arr1+5)\n",
        "\n",
        "print(arr1*arr2)\n",
        "\n",
        "print(arr1*2)\n",
        "\n",
        "print(arr1/arr2)\n",
        "\n",
        "print(arr1/5)"
      ],
      "metadata": {
        "id": "969ZyJbKh1Ld"
      },
      "execution_count": null,
      "outputs": []
    },
    {
      "cell_type": "code",
      "source": [
        "list1=[1,2,3,4,5,]\n",
        "list2=[6,7,8,9,10]\n",
        "print(list1)\n",
        "\n",
        "print(list1+list2)\n",
        "\n",
        "print(list1+5)\n",
        "\n",
        "print(list1-list2)\n",
        "\n",
        "print(list1-5)\n",
        "\n",
        "print(list1*list2)\n",
        "\n",
        "print(list1)"
      ],
      "metadata": {
        "id": "5rYeMjDvk5S1"
      },
      "execution_count": null,
      "outputs": []
    },
    {
      "cell_type": "markdown",
      "source": [
        "2-5 1차원 배열의 연산"
      ],
      "metadata": {
        "id": "La1LGImllfw9"
      }
    },
    {
      "cell_type": "code",
      "source": [
        "import numpy as np\n",
        "\n",
        "a=np.array([1,2,3])\n",
        "b=np.array([4,5,6])\n",
        "\n",
        "#배열 덧셈 c=a+b\n",
        "c=np.add(a,b)\n",
        "print(c)\n",
        "\n",
        "#배열 뺄셈 c=a-b\n",
        "c=np.subtract(a,b)\n",
        "print(c)"
      ],
      "metadata": {
        "id": "RjJa04z3lfNV"
      },
      "execution_count": null,
      "outputs": []
    },
    {
      "cell_type": "markdown",
      "source": [
        "2-6 2차원배열의 합과 곱"
      ],
      "metadata": {
        "id": "oSeHmetfnovU"
      }
    },
    {
      "cell_type": "code",
      "source": [
        "import numpy as np\n",
        "\n",
        "list1=[[1,2],[3,4]]\n",
        "list2=[[5,6],[7,8]]\n",
        "\n",
        "a=np.array(list1)\n",
        "b=np.array(list2)\n",
        "\n",
        "c=np.add(a,b)\n",
        "print(c)\n",
        "\n",
        "c=np.dot(a,b)\n",
        "print(c)"
      ],
      "metadata": {
        "id": "W0BnWlKrnoDN"
      },
      "execution_count": null,
      "outputs": []
    },
    {
      "cell_type": "code",
      "source": [
        "import pandas as pd\n",
        "df1= pd.DataFrame(\n",
        "    [[1,4],\n",
        "     [2,5],\n",
        "     [3,6]],\n",
        "    columns=['a','b'])\n",
        "print(df1,'\\n')\n",
        "\n",
        "df2= pd.DataFrame(\n",
        "    {\"c\":[7,8,9],\n",
        "     \"d\":[10,11,12]})\n",
        "print(df2,'\\n')"
      ],
      "metadata": {
        "id": "xdG80A21pwOO"
      },
      "execution_count": null,
      "outputs": []
    },
    {
      "cell_type": "markdown",
      "source": [
        "2-11 함수 concat()을 이용한 제구조화"
      ],
      "metadata": {
        "id": "ATc6tWB5r-Qk"
      }
    },
    {
      "cell_type": "code",
      "source": [
        "df1= pd.DataFrame(\n",
        "    [[1,4],\n",
        "     [2,5],\n",
        "     [3,6]],\n",
        "    columns=['a','b'])\n",
        "print(df1,'\\n')\n",
        "\n",
        "df2= pd.DataFrame(\n",
        "    {\"c\":[7,8,9],\n",
        "     \"d\":[10,11,12]})\n",
        "print(df2,'\\n')\n",
        "\n",
        "df4= pd.concat([df1,df1],axis=0)\n",
        "print(df4,'\\n')\n",
        "\n",
        "df4= pd.concat([df1,df1],axis=1)\n",
        "print(df4,'\\m')"
      ],
      "metadata": {
        "id": "pyiB1BNxr559"
      },
      "execution_count": null,
      "outputs": []
    }
  ]
}